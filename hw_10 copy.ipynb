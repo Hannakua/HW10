{
 "cells": [
  {
   "cell_type": "code",
   "execution_count": 35,
   "metadata": {
    "colab": {},
    "colab_type": "code",
    "id": "qrfd6FzSLrE2"
   },
   "outputs": [],
   "source": [
    "from tensorflow.keras.datasets import fashion_mnist\n",
    "from keras import metrics\n",
    "import numpy as np\n",
    "from keras import layers\n",
    "from keras import models\n",
    "from tensorflow.keras.utils import to_categorical"
   ]
  },
  {
   "cell_type": "markdown",
   "metadata": {},
   "source": [
    "Частина 1"
   ]
  },
  {
   "cell_type": "code",
   "execution_count": 36,
   "metadata": {
    "colab": {
     "base_uri": "https://localhost:8080/",
     "height": 151
    },
    "colab_type": "code",
    "id": "E5L3LUIi8PDV",
    "outputId": "0a457349-c6af-4076-d5df-fed49405e616"
   },
   "outputs": [],
   "source": [
    "(train_data, train_labels), (test_data, test_labels) = fashion_mnist.load_data()"
   ]
  },
  {
   "cell_type": "code",
   "execution_count": 37,
   "metadata": {},
   "outputs": [
    {
     "data": {
      "text/plain": [
       "(60000, 28, 28)"
      ]
     },
     "execution_count": 37,
     "metadata": {},
     "output_type": "execute_result"
    }
   ],
   "source": [
    "train_data = train_data / 255.0\n",
    "test_data = test_data / 255.0\n",
    "\n",
    "train_data.shape"
   ]
  },
  {
   "cell_type": "code",
   "execution_count": 38,
   "metadata": {},
   "outputs": [],
   "source": [
    "train_labels = to_categorical(train_labels)\n",
    "test_labels = to_categorical(test_labels)"
   ]
  },
  {
   "cell_type": "code",
   "execution_count": 39,
   "metadata": {
    "colab": {
     "base_uri": "https://localhost:8080/",
     "height": 35
    },
    "colab_type": "code",
    "id": "9zUfd1aeKH3e",
    "outputId": "19690c10-b9d7-4911-b826-260515752e0b"
   },
   "outputs": [
    {
     "data": {
      "text/plain": [
       "array([[0., 0., 0., 1., 0., 0., 0., 0., 0., 0.],\n",
       "       [1., 0., 0., 0., 0., 0., 0., 0., 0., 0.],\n",
       "       [0., 0., 1., 0., 0., 0., 0., 0., 0., 0.]], dtype=float32)"
      ]
     },
     "execution_count": 39,
     "metadata": {},
     "output_type": "execute_result"
    }
   ],
   "source": [
    "train_labels[25:28]"
   ]
  },
  {
   "cell_type": "code",
   "execution_count": 40,
   "metadata": {
    "colab": {
     "base_uri": "https://localhost:8080/",
     "height": 89
    },
    "colab_type": "code",
    "id": "kYVSvpNIMSnG",
    "outputId": "38f5442b-e2a2-4e9d-db6a-af5883d208a1"
   },
   "outputs": [],
   "source": [
    "model = models.Sequential(\n",
    "    [\n",
    "        layers.Conv2D(32, (3, 3), activation=\"relu\", input_shape=(28, 28, 1)),\n",
    "        layers.MaxPooling2D((2, 2)),\n",
    "        layers.Conv2D(64, (3, 3), activation=\"relu\"),\n",
    "        layers.Flatten(),\n",
    "        layers.Dense(64, activation=\"relu\"),\n",
    "        layers.Dense(10, activation=\"softmax\"),\n",
    "    ]\n",
    ")"
   ]
  },
  {
   "cell_type": "code",
   "execution_count": 41,
   "metadata": {},
   "outputs": [
    {
     "name": "stdout",
     "output_type": "stream",
     "text": [
      "Model: \"sequential_4\"\n",
      "_________________________________________________________________\n",
      " Layer (type)                Output Shape              Param #   \n",
      "=================================================================\n",
      " conv2d (Conv2D)             (None, 26, 26, 32)        320       \n",
      "                                                                 \n",
      " max_pooling2d (MaxPooling2  (None, 13, 13, 32)        0         \n",
      " D)                                                              \n",
      "                                                                 \n",
      " conv2d_1 (Conv2D)           (None, 11, 11, 64)        18496     \n",
      "                                                                 \n",
      " flatten_4 (Flatten)         (None, 7744)              0         \n",
      "                                                                 \n",
      " dense_8 (Dense)             (None, 64)                495680    \n",
      "                                                                 \n",
      " dense_9 (Dense)             (None, 10)                650       \n",
      "                                                                 \n",
      "=================================================================\n",
      "Total params: 515146 (1.97 MB)\n",
      "Trainable params: 515146 (1.97 MB)\n",
      "Non-trainable params: 0 (0.00 Byte)\n",
      "_________________________________________________________________\n"
     ]
    }
   ],
   "source": [
    "model.summary()"
   ]
  },
  {
   "cell_type": "code",
   "execution_count": 42,
   "metadata": {
    "colab": {
     "base_uri": "https://localhost:8080/",
     "height": 225
    },
    "colab_type": "code",
    "id": "PTcbSxchKZjd",
    "outputId": "5f793a71-cb1c-4059-a0df-bf1b7a6c1d7c"
   },
   "outputs": [
    {
     "name": "stdout",
     "output_type": "stream",
     "text": [
      "WARNING:tensorflow:From c:\\Users\\User\\AppData\\Local\\Programs\\Python\\Python310\\lib\\site-packages\\keras\\src\\optimizers\\__init__.py:309: The name tf.train.Optimizer is deprecated. Please use tf.compat.v1.train.Optimizer instead.\n",
      "\n"
     ]
    }
   ],
   "source": [
    "model.compile(\n",
    "    optimizer=\"rmsprop\",   #\"Adam\"\n",
    "    loss=\"categorical_crossentropy\",\n",
    "    metrics=[\"accuracy\", metrics.Recall(), metrics.Precision(), metrics.F1Score(),\n",
    "    ],\n",
    ")"
   ]
  },
  {
   "cell_type": "code",
   "execution_count": 43,
   "metadata": {},
   "outputs": [],
   "source": [
    "epochs = 30"
   ]
  },
  {
   "cell_type": "code",
   "execution_count": 44,
   "metadata": {
    "colab": {
     "base_uri": "https://localhost:8080/",
     "height": 3573
    },
    "colab_type": "code",
    "id": "H6EIXu1dKoju",
    "outputId": "d824768e-d0d3-4f2f-c2af-5e7d5e2addcf"
   },
   "outputs": [
    {
     "name": "stdout",
     "output_type": "stream",
     "text": [
      "Epoch 1/30\n",
      "375/375 [==============================] - 7s 16ms/step - loss: 0.5260 - accuracy: 0.8127 - recall: 0.7558 - precision: 0.8703 - f1_score: 0.8115 - val_loss: 0.3568 - val_accuracy: 0.8701 - val_recall: 0.8510 - val_precision: 0.8939 - val_f1_score: 0.8642\n",
      "Epoch 2/30\n",
      "375/375 [==============================] - 6s 16ms/step - loss: 0.3236 - accuracy: 0.8825 - recall: 0.8628 - precision: 0.9038 - f1_score: 0.8822 - val_loss: 0.2955 - val_accuracy: 0.8924 - val_recall: 0.8754 - val_precision: 0.9122 - val_f1_score: 0.8923\n",
      "Epoch 3/30\n",
      "375/375 [==============================] - 6s 15ms/step - loss: 0.2693 - accuracy: 0.9010 - recall: 0.8871 - precision: 0.9175 - f1_score: 0.9008 - val_loss: 0.2639 - val_accuracy: 0.9059 - val_recall: 0.8918 - val_precision: 0.9221 - val_f1_score: 0.9059\n",
      "Epoch 4/30\n",
      "375/375 [==============================] - 6s 15ms/step - loss: 0.2367 - accuracy: 0.9132 - recall: 0.9013 - precision: 0.9266 - f1_score: 0.9130 - val_loss: 0.2600 - val_accuracy: 0.9045 - val_recall: 0.8932 - val_precision: 0.9168 - val_f1_score: 0.9049\n",
      "Epoch 5/30\n",
      "375/375 [==============================] - 6s 15ms/step - loss: 0.2103 - accuracy: 0.9231 - recall: 0.9136 - precision: 0.9348 - f1_score: 0.9230 - val_loss: 0.2350 - val_accuracy: 0.9153 - val_recall: 0.9052 - val_precision: 0.9285 - val_f1_score: 0.9149\n",
      "Epoch 6/30\n",
      "375/375 [==============================] - 6s 15ms/step - loss: 0.1847 - accuracy: 0.9328 - recall: 0.9238 - precision: 0.9423 - f1_score: 0.9327 - val_loss: 0.2498 - val_accuracy: 0.9135 - val_recall: 0.9058 - val_precision: 0.9234 - val_f1_score: 0.9113\n",
      "Epoch 7/30\n",
      "375/375 [==============================] - 6s 16ms/step - loss: 0.1668 - accuracy: 0.9381 - recall: 0.9304 - precision: 0.9458 - f1_score: 0.9380 - val_loss: 0.2302 - val_accuracy: 0.9181 - val_recall: 0.9109 - val_precision: 0.9282 - val_f1_score: 0.9188\n",
      "Epoch 8/30\n",
      "375/375 [==============================] - 6s 15ms/step - loss: 0.1480 - accuracy: 0.9468 - recall: 0.9400 - precision: 0.9530 - f1_score: 0.9467 - val_loss: 0.2362 - val_accuracy: 0.9193 - val_recall: 0.9151 - val_precision: 0.9262 - val_f1_score: 0.9184\n",
      "Epoch 9/30\n",
      "375/375 [==============================] - 6s 15ms/step - loss: 0.1320 - accuracy: 0.9513 - recall: 0.9463 - precision: 0.9573 - f1_score: 0.9512 - val_loss: 0.2209 - val_accuracy: 0.9228 - val_recall: 0.9173 - val_precision: 0.9308 - val_f1_score: 0.9223\n",
      "Epoch 10/30\n",
      "375/375 [==============================] - 6s 15ms/step - loss: 0.1165 - accuracy: 0.9579 - recall: 0.9542 - precision: 0.9625 - f1_score: 0.9578 - val_loss: 0.2422 - val_accuracy: 0.9184 - val_recall: 0.9125 - val_precision: 0.9254 - val_f1_score: 0.9189\n",
      "Epoch 11/30\n",
      "375/375 [==============================] - 6s 15ms/step - loss: 0.1030 - accuracy: 0.9630 - recall: 0.9598 - precision: 0.9670 - f1_score: 0.9630 - val_loss: 0.2406 - val_accuracy: 0.9221 - val_recall: 0.9178 - val_precision: 0.9266 - val_f1_score: 0.9222\n",
      "Epoch 12/30\n",
      "375/375 [==============================] - 6s 15ms/step - loss: 0.0890 - accuracy: 0.9678 - recall: 0.9649 - precision: 0.9704 - f1_score: 0.9677 - val_loss: 0.2685 - val_accuracy: 0.9203 - val_recall: 0.9173 - val_precision: 0.9247 - val_f1_score: 0.9190\n",
      "Epoch 13/30\n",
      "375/375 [==============================] - 6s 15ms/step - loss: 0.0787 - accuracy: 0.9720 - recall: 0.9702 - precision: 0.9742 - f1_score: 0.9720 - val_loss: 0.2752 - val_accuracy: 0.9200 - val_recall: 0.9166 - val_precision: 0.9247 - val_f1_score: 0.9204\n",
      "Epoch 14/30\n",
      "375/375 [==============================] - 6s 15ms/step - loss: 0.0673 - accuracy: 0.9753 - recall: 0.9737 - precision: 0.9775 - f1_score: 0.9752 - val_loss: 0.2829 - val_accuracy: 0.9213 - val_recall: 0.9185 - val_precision: 0.9250 - val_f1_score: 0.9204\n",
      "Epoch 15/30\n",
      "375/375 [==============================] - 6s 15ms/step - loss: 0.0595 - accuracy: 0.9783 - recall: 0.9770 - precision: 0.9799 - f1_score: 0.9783 - val_loss: 0.2921 - val_accuracy: 0.9187 - val_recall: 0.9160 - val_precision: 0.9219 - val_f1_score: 0.9179\n",
      "Epoch 16/30\n",
      "375/375 [==============================] - 6s 15ms/step - loss: 0.0512 - accuracy: 0.9814 - recall: 0.9804 - precision: 0.9825 - f1_score: 0.9814 - val_loss: 0.2965 - val_accuracy: 0.9193 - val_recall: 0.9175 - val_precision: 0.9229 - val_f1_score: 0.9185\n",
      "Epoch 17/30\n",
      "375/375 [==============================] - 6s 15ms/step - loss: 0.0433 - accuracy: 0.9854 - recall: 0.9845 - precision: 0.9862 - f1_score: 0.9854 - val_loss: 0.3299 - val_accuracy: 0.9190 - val_recall: 0.9177 - val_precision: 0.9212 - val_f1_score: 0.9185\n",
      "Epoch 18/30\n",
      "375/375 [==============================] - 6s 15ms/step - loss: 0.0381 - accuracy: 0.9869 - recall: 0.9862 - precision: 0.9873 - f1_score: 0.9869 - val_loss: 0.3595 - val_accuracy: 0.9179 - val_recall: 0.9166 - val_precision: 0.9201 - val_f1_score: 0.9163\n",
      "Epoch 19/30\n",
      "375/375 [==============================] - 6s 15ms/step - loss: 0.0324 - accuracy: 0.9888 - recall: 0.9884 - precision: 0.9892 - f1_score: 0.9888 - val_loss: 0.3662 - val_accuracy: 0.9179 - val_recall: 0.9165 - val_precision: 0.9207 - val_f1_score: 0.9176\n",
      "Epoch 20/30\n",
      "375/375 [==============================] - 6s 15ms/step - loss: 0.0277 - accuracy: 0.9901 - recall: 0.9896 - precision: 0.9906 - f1_score: 0.9901 - val_loss: 0.3772 - val_accuracy: 0.9220 - val_recall: 0.9213 - val_precision: 0.9240 - val_f1_score: 0.9214\n",
      "Epoch 21/30\n",
      "375/375 [==============================] - 6s 15ms/step - loss: 0.0238 - accuracy: 0.9922 - recall: 0.9919 - precision: 0.9924 - f1_score: 0.9922 - val_loss: 0.3842 - val_accuracy: 0.9196 - val_recall: 0.9185 - val_precision: 0.9210 - val_f1_score: 0.9200\n",
      "Epoch 22/30\n",
      "375/375 [==============================] - 6s 15ms/step - loss: 0.0199 - accuracy: 0.9934 - recall: 0.9931 - precision: 0.9936 - f1_score: 0.9934 - val_loss: 0.4660 - val_accuracy: 0.9128 - val_recall: 0.9116 - val_precision: 0.9146 - val_f1_score: 0.9115\n",
      "Epoch 23/30\n",
      "375/375 [==============================] - 6s 15ms/step - loss: 0.0181 - accuracy: 0.9940 - recall: 0.9940 - precision: 0.9941 - f1_score: 0.9940 - val_loss: 0.4573 - val_accuracy: 0.9169 - val_recall: 0.9160 - val_precision: 0.9184 - val_f1_score: 0.9165\n",
      "Epoch 24/30\n",
      "375/375 [==============================] - 6s 15ms/step - loss: 0.0161 - accuracy: 0.9945 - recall: 0.9944 - precision: 0.9947 - f1_score: 0.9945 - val_loss: 0.4780 - val_accuracy: 0.9171 - val_recall: 0.9165 - val_precision: 0.9188 - val_f1_score: 0.9176\n",
      "Epoch 25/30\n",
      "375/375 [==============================] - 6s 15ms/step - loss: 0.0136 - accuracy: 0.9957 - recall: 0.9956 - precision: 0.9958 - f1_score: 0.9957 - val_loss: 0.4780 - val_accuracy: 0.9212 - val_recall: 0.9202 - val_precision: 0.9225 - val_f1_score: 0.9208\n",
      "Epoch 26/30\n",
      "375/375 [==============================] - 6s 15ms/step - loss: 0.0114 - accuracy: 0.9961 - recall: 0.9961 - precision: 0.9962 - f1_score: 0.9961 - val_loss: 0.4942 - val_accuracy: 0.9204 - val_recall: 0.9196 - val_precision: 0.9217 - val_f1_score: 0.9198\n",
      "Epoch 27/30\n",
      "375/375 [==============================] - 6s 15ms/step - loss: 0.0103 - accuracy: 0.9966 - recall: 0.9965 - precision: 0.9966 - f1_score: 0.9966 - val_loss: 0.4996 - val_accuracy: 0.9202 - val_recall: 0.9197 - val_precision: 0.9209 - val_f1_score: 0.9199\n",
      "Epoch 28/30\n",
      "375/375 [==============================] - 6s 15ms/step - loss: 0.0100 - accuracy: 0.9969 - recall: 0.9968 - precision: 0.9970 - f1_score: 0.9969 - val_loss: 0.5250 - val_accuracy: 0.9193 - val_recall: 0.9187 - val_precision: 0.9202 - val_f1_score: 0.9190\n",
      "Epoch 29/30\n",
      "375/375 [==============================] - 6s 15ms/step - loss: 0.0086 - accuracy: 0.9972 - recall: 0.9971 - precision: 0.9972 - f1_score: 0.9972 - val_loss: 0.5254 - val_accuracy: 0.9224 - val_recall: 0.9217 - val_precision: 0.9236 - val_f1_score: 0.9219\n",
      "Epoch 30/30\n",
      "375/375 [==============================] - 6s 15ms/step - loss: 0.0087 - accuracy: 0.9974 - recall: 0.9973 - precision: 0.9974 - f1_score: 0.9974 - val_loss: 0.5567 - val_accuracy: 0.9198 - val_recall: 0.9192 - val_precision: 0.9209 - val_f1_score: 0.9195\n"
     ]
    }
   ],
   "source": [
    "history = model.fit(train_data, train_labels, \n",
    "                    batch_size=128, \n",
    "                    epochs=epochs,\n",
    "                    validation_split=0.2,\n",
    "                    verbose=1)"
   ]
  },
  {
   "cell_type": "code",
   "execution_count": 45,
   "metadata": {},
   "outputs": [
    {
     "name": "stdout",
     "output_type": "stream",
     "text": [
      "dict_keys(['loss', 'accuracy', 'recall', 'precision', 'f1_score', 'val_loss', 'val_accuracy', 'val_recall', 'val_precision', 'val_f1_score'])\n"
     ]
    }
   ],
   "source": [
    "print(history.history.keys())"
   ]
  },
  {
   "cell_type": "code",
   "execution_count": 46,
   "metadata": {},
   "outputs": [
    {
     "name": "stdout",
     "output_type": "stream",
     "text": [
      "Функція втрат: 0.009 \n",
      "Accuracy: 99.74% \n",
      "Повнота (recall): 0.997 \n",
      "Точність (presicion): 0.997, \n",
      "F-міра (міра точності): 0.997\n"
     ]
    }
   ],
   "source": [
    "loss = history.history[\"loss\"][epochs - 1]\n",
    "accuracy = history.history[\"accuracy\"][epochs - 1]\n",
    "recall = history.history[\"recall\"][epochs - 1]\n",
    "presicion = history.history[\"precision\"][epochs - 1]\n",
    "f1_score = history.history[\"f1_score\"][epochs - 1]\n",
    "print(\n",
    "    f\"Функція втрат: {loss:.3f} \\nAccuracy: {accuracy*100:.2f}% \\nПовнота (recall): {recall:.3f} \\nТочність (presicion): {presicion:.3f}, \\nF-міра (міра точності): {f1_score.mean():.3f}\"\n",
    ")\n"
   ]
  },
  {
   "cell_type": "code",
   "execution_count": 47,
   "metadata": {
    "colab": {
     "base_uri": "https://localhost:8080/",
     "height": 35
    },
    "colab_type": "code",
    "id": "4CX6To0sr2zd",
    "outputId": "3189e07a-6998-4162-ca1e-690014db0cec"
   },
   "outputs": [
    {
     "name": "stdout",
     "output_type": "stream",
     "text": [
      "63/63 [==============================] - 0s 2ms/step - loss: 0.5381 - accuracy: 0.9225 - recall: 0.9225 - precision: 0.9230 - f1_score: 0.9220\n",
      "Метріки, розраховані на тестових даних: \n",
      "Функція втрат: 0.54 \n",
      "Accuracy: 92.25% \n",
      "Повнота (recall): 0.92 \n",
      "Точність (presicion): 0.92, \n",
      "F-міра (міра точності): 0.92\n"
     ]
    }
   ],
   "source": [
    "loss, accuracy, recall, presicion, f1_score = model.evaluate(\n",
    "    test_data[-2000:], test_labels[-2000:], verbose=1\n",
    ")\n",
    "print(\n",
    "    f\"Метріки, розраховані на тестових даних: \\nФункція втрат: {loss:.2f} \\nAccuracy: {accuracy*100:.2f}% \\nПовнота (recall): {recall:.2f} \\nТочність (presicion): {presicion:.2f}, \\nF-міра (міра точності): {f1_score.mean():.2f}\"\n",
    ")\n"
   ]
  },
  {
   "cell_type": "markdown",
   "metadata": {},
   "source": [
    "В попередній роботі була створена повнозв'язкова нейронна мережа (модель багатошарового персептрону) на основі датасету fashion_mnist для класифікаціїї зображень одягу. Та мережа мала наступні значення метрик: Функція втрат 0.14 / Accuracy 94.69% / Повнота (recall) 0.94 / Точність (presicion) 0.95 \n",
    "В данній роботі була отримана аналогічна згорткова мережа на основі датасету fashion_mnist. При однковій кількості епох, розміру батча згорткова мережа має більш високі значення метрик і меншу функцію втрат.  "
   ]
  },
  {
   "cell_type": "markdown",
   "metadata": {},
   "source": [
    "Частина 2"
   ]
  },
  {
   "cell_type": "code",
   "execution_count": 6,
   "metadata": {},
   "outputs": [],
   "source": [
    "from tensorflow.keras.datasets import fashion_mnist\n",
    "import numpy as np \n",
    "import pandas as pd \n",
    "import matplotlib.pyplot as plt\n",
    "%matplotlib inline\n",
    "import keras\n",
    "from keras.utils import to_categorical\n",
    "from keras.models import Sequential\n",
    "from keras.layers import Conv2D, MaxPooling2D\n",
    "from keras.layers import Dense, Dropout, Flatten\n",
    "from keras.models import Model\n",
    "from keras import models\n",
    "from keras.applications import VGG16;\n",
    "import os\n",
    "import tensorflow as tf\n",
    "from keras import metrics\n",
    "from keras import layers\n",
    "from keras import optimizers"
   ]
  },
  {
   "cell_type": "code",
   "execution_count": 51,
   "metadata": {},
   "outputs": [],
   "source": [
    "(train_data, train_labels), (test_data, test_labels) = fashion_mnist.load_data()"
   ]
  },
  {
   "cell_type": "code",
   "execution_count": 52,
   "metadata": {},
   "outputs": [
    {
     "data": {
      "text/plain": [
       "(60000, 28, 28)"
      ]
     },
     "execution_count": 52,
     "metadata": {},
     "output_type": "execute_result"
    }
   ],
   "source": [
    "train_data.shape"
   ]
  },
  {
   "cell_type": "code",
   "execution_count": 53,
   "metadata": {},
   "outputs": [
    {
     "data": {
      "text/plain": [
       "TensorShape([60000, 28, 28, 1])"
      ]
     },
     "execution_count": 53,
     "metadata": {},
     "output_type": "execute_result"
    }
   ],
   "source": [
    "train_data = tf.expand_dims(train_data, axis=3)\n",
    "test_data = tf.expand_dims(test_data, axis=3)\n",
    "train_data.shape"
   ]
  },
  {
   "cell_type": "code",
   "execution_count": 54,
   "metadata": {},
   "outputs": [
    {
     "data": {
      "text/plain": [
       "TensorShape([60000, 28, 28, 3])"
      ]
     },
     "execution_count": 54,
     "metadata": {},
     "output_type": "execute_result"
    }
   ],
   "source": [
    "train_data_rgb = tf.image.grayscale_to_rgb(train_data)\n",
    "test_data_rgb = tf.image.grayscale_to_rgb(test_data)\n",
    "train_data_rgb.shape"
   ]
  },
  {
   "cell_type": "code",
   "execution_count": 55,
   "metadata": {},
   "outputs": [
    {
     "data": {
      "text/plain": [
       "TensorShape([60000, 32, 32, 3])"
      ]
     },
     "execution_count": 55,
     "metadata": {},
     "output_type": "execute_result"
    }
   ],
   "source": [
    "# tf.image.resize(train_data_rgb, 32, 32)\n",
    "\n",
    "train_data = tf.image.resize_with_pad(train_data_rgb, 32, 32) / 255.0\n",
    "test_data = tf.image.resize_with_pad(test_data_rgb, 32, 32) / 255.0\n",
    "train_data.shape"
   ]
  },
  {
   "cell_type": "code",
   "execution_count": 19,
   "metadata": {},
   "outputs": [],
   "source": [
    "train_labels = to_categorical(train_labels, 10)\n",
    "test_labels = to_categorical(test_labels, 10)"
   ]
  },
  {
   "cell_type": "code",
   "execution_count": 73,
   "metadata": {},
   "outputs": [],
   "source": [
    "from keras.applications.vgg16 import VGG16\n",
    "\n",
    "conv_base = VGG16(weights=\"imagenet\", include_top=False, input_shape=(32, 32, 3))\n",
    "conv_base.trainable = False"
   ]
  },
  {
   "cell_type": "code",
   "execution_count": 74,
   "metadata": {},
   "outputs": [
    {
     "name": "stdout",
     "output_type": "stream",
     "text": [
      "Model: \"vgg16\"\n",
      "_________________________________________________________________\n",
      " Layer (type)                Output Shape              Param #   \n",
      "=================================================================\n",
      " input_1 (InputLayer)        [(None, 32, 32, 3)]       0         \n",
      "                                                                 \n",
      " block1_conv1 (Conv2D)       (None, 32, 32, 64)        1792      \n",
      "                                                                 \n",
      " block1_conv2 (Conv2D)       (None, 32, 32, 64)        36928     \n",
      "                                                                 \n",
      " block1_pool (MaxPooling2D)  (None, 16, 16, 64)        0         \n",
      "                                                                 \n",
      " block2_conv1 (Conv2D)       (None, 16, 16, 128)       73856     \n",
      "                                                                 \n",
      " block2_conv2 (Conv2D)       (None, 16, 16, 128)       147584    \n",
      "                                                                 \n",
      " block2_pool (MaxPooling2D)  (None, 8, 8, 128)         0         \n",
      "                                                                 \n",
      " block3_conv1 (Conv2D)       (None, 8, 8, 256)         295168    \n",
      "                                                                 \n",
      " block3_conv2 (Conv2D)       (None, 8, 8, 256)         590080    \n",
      "                                                                 \n",
      " block3_conv3 (Conv2D)       (None, 8, 8, 256)         590080    \n",
      "                                                                 \n",
      " block3_pool (MaxPooling2D)  (None, 4, 4, 256)         0         \n",
      "                                                                 \n",
      " block4_conv1 (Conv2D)       (None, 4, 4, 512)         1180160   \n",
      "                                                                 \n",
      " block4_conv2 (Conv2D)       (None, 4, 4, 512)         2359808   \n",
      "                                                                 \n",
      " block4_conv3 (Conv2D)       (None, 4, 4, 512)         2359808   \n",
      "                                                                 \n",
      " block4_pool (MaxPooling2D)  (None, 2, 2, 512)         0         \n",
      "                                                                 \n",
      " block5_conv1 (Conv2D)       (None, 2, 2, 512)         2359808   \n",
      "                                                                 \n",
      " block5_conv2 (Conv2D)       (None, 2, 2, 512)         2359808   \n",
      "                                                                 \n",
      " block5_conv3 (Conv2D)       (None, 2, 2, 512)         2359808   \n",
      "                                                                 \n",
      " block5_pool (MaxPooling2D)  (None, 1, 1, 512)         0         \n",
      "                                                                 \n",
      "=================================================================\n",
      "Total params: 14714688 (56.13 MB)\n",
      "Trainable params: 0 (0.00 Byte)\n",
      "Non-trainable params: 14714688 (56.13 MB)\n",
      "_________________________________________________________________\n"
     ]
    }
   ],
   "source": [
    "conv_base.summary()"
   ]
  },
  {
   "cell_type": "code",
   "execution_count": 23,
   "metadata": {},
   "outputs": [],
   "source": [
    "model = models.Sequential(\n",
    "    [\n",
    "        conv_base,\n",
    "        layers.Flatten(),\n",
    "        layers.Dense(256, activation=\"relu\"),\n",
    "        layers.Dense(10, activation=\"softmax\"),\n",
    "    ]\n",
    ")\n",
    "\n",
    "model.compile(\n",
    "    loss=\"categorical_crossentropy\",\n",
    "    # optimizer=tf.keras.optimizers.RMSprop(learning_rate=2e-5),\n",
    "    optimizer=tf.keras.optimizers.Adam(),\n",
    "    metrics=[\"acc\", metrics.F1Score()],\n",
    ")"
   ]
  },
  {
   "cell_type": "code",
   "execution_count": 24,
   "metadata": {},
   "outputs": [
    {
     "name": "stdout",
     "output_type": "stream",
     "text": [
      "Model: \"sequential_1\"\n",
      "_________________________________________________________________\n",
      " Layer (type)                Output Shape              Param #   \n",
      "=================================================================\n",
      " vgg16 (Functional)          (None, 1, 1, 512)         14714688  \n",
      "                                                                 \n",
      " flatten_1 (Flatten)         (None, 512)               0         \n",
      "                                                                 \n",
      " dense_2 (Dense)             (None, 256)               131328    \n",
      "                                                                 \n",
      " dense_3 (Dense)             (None, 10)                2570      \n",
      "                                                                 \n",
      "=================================================================\n",
      "Total params: 14848586 (56.64 MB)\n",
      "Trainable params: 133898 (523.04 KB)\n",
      "Non-trainable params: 14714688 (56.13 MB)\n",
      "_________________________________________________________________\n"
     ]
    }
   ],
   "source": [
    "model.summary()"
   ]
  },
  {
   "cell_type": "code",
   "execution_count": 25,
   "metadata": {},
   "outputs": [
    {
     "name": "stdout",
     "output_type": "stream",
     "text": [
      "Epoch 1/50\n",
      "WARNING:tensorflow:From c:\\Users\\user\\AppData\\Local\\Programs\\Python\\Python311\\Lib\\site-packages\\keras\\src\\utils\\tf_utils.py:492: The name tf.ragged.RaggedTensorValue is deprecated. Please use tf.compat.v1.ragged.RaggedTensorValue instead.\n",
      "\n",
      "WARNING:tensorflow:From c:\\Users\\user\\AppData\\Local\\Programs\\Python\\Python311\\Lib\\site-packages\\keras\\src\\engine\\base_layer_utils.py:384: The name tf.executing_eagerly_outside_functions is deprecated. Please use tf.compat.v1.executing_eagerly_outside_functions instead.\n",
      "\n",
      "352/352 [==============================] - 128s 359ms/step - loss: 0.6191 - acc: 0.7885 - f1_score: 0.7875 - val_loss: 0.4897 - val_acc: 0.8237 - val_f1_score: 0.8197\n",
      "Epoch 2/50\n",
      "352/352 [==============================] - 126s 358ms/step - loss: 0.4366 - acc: 0.8417 - f1_score: 0.8413 - val_loss: 0.4282 - val_acc: 0.8481 - val_f1_score: 0.8447\n",
      "Epoch 3/50\n",
      "352/352 [==============================] - 126s 357ms/step - loss: 0.3990 - acc: 0.8534 - f1_score: 0.8531 - val_loss: 0.4212 - val_acc: 0.8467 - val_f1_score: 0.8479\n",
      "Epoch 4/50\n",
      "352/352 [==============================] - 173s 492ms/step - loss: 0.3750 - acc: 0.8616 - f1_score: 0.8614 - val_loss: 0.3951 - val_acc: 0.8581 - val_f1_score: 0.8584\n",
      "Epoch 5/50\n",
      "352/352 [==============================] - 127s 361ms/step - loss: 0.3587 - acc: 0.8677 - f1_score: 0.8674 - val_loss: 0.3956 - val_acc: 0.8559 - val_f1_score: 0.8557\n",
      "Epoch 6/50\n",
      "352/352 [==============================] - 126s 360ms/step - loss: 0.3437 - acc: 0.8747 - f1_score: 0.8745 - val_loss: 0.3800 - val_acc: 0.8631 - val_f1_score: 0.8627\n",
      "Epoch 7/50\n",
      "352/352 [==============================] - 142s 403ms/step - loss: 0.3303 - acc: 0.8786 - f1_score: 0.8783 - val_loss: 0.3744 - val_acc: 0.8621 - val_f1_score: 0.8613\n",
      "Epoch 8/50\n",
      "352/352 [==============================] - 179s 506ms/step - loss: 0.3199 - acc: 0.8828 - f1_score: 0.8826 - val_loss: 0.3679 - val_acc: 0.8697 - val_f1_score: 0.8696\n",
      "Epoch 9/50\n",
      "352/352 [==============================] - 126s 358ms/step - loss: 0.3112 - acc: 0.8848 - f1_score: 0.8846 - val_loss: 0.3661 - val_acc: 0.8693 - val_f1_score: 0.8687\n",
      "Epoch 10/50\n",
      "352/352 [==============================] - 125s 356ms/step - loss: 0.3002 - acc: 0.8878 - f1_score: 0.8875 - val_loss: 0.3625 - val_acc: 0.8695 - val_f1_score: 0.8668\n",
      "Epoch 11/50\n",
      "352/352 [==============================] - 126s 358ms/step - loss: 0.2958 - acc: 0.8906 - f1_score: 0.8904 - val_loss: 0.3760 - val_acc: 0.8669 - val_f1_score: 0.8631\n",
      "Epoch 12/50\n",
      "352/352 [==============================] - 136s 387ms/step - loss: 0.2824 - acc: 0.8959 - f1_score: 0.8957 - val_loss: 0.3606 - val_acc: 0.8707 - val_f1_score: 0.8680\n",
      "Epoch 13/50\n",
      "352/352 [==============================] - 376s 1s/step - loss: 0.2767 - acc: 0.8971 - f1_score: 0.8969 - val_loss: 0.3590 - val_acc: 0.8712 - val_f1_score: 0.8704\n",
      "Epoch 14/50\n",
      "352/352 [==============================] - 367s 1s/step - loss: 0.2688 - acc: 0.9010 - f1_score: 0.9008 - val_loss: 0.3613 - val_acc: 0.8709 - val_f1_score: 0.8702\n",
      "Epoch 15/50\n",
      "352/352 [==============================] - 207s 588ms/step - loss: 0.2642 - acc: 0.9022 - f1_score: 0.9021 - val_loss: 0.3633 - val_acc: 0.8697 - val_f1_score: 0.8662\n",
      "Epoch 16/50\n",
      "352/352 [==============================] - 126s 359ms/step - loss: 0.2551 - acc: 0.9053 - f1_score: 0.9051 - val_loss: 0.3785 - val_acc: 0.8647 - val_f1_score: 0.8667\n",
      "Epoch 17/50\n",
      "352/352 [==============================] - 127s 360ms/step - loss: 0.2478 - acc: 0.9068 - f1_score: 0.9066 - val_loss: 0.3487 - val_acc: 0.8751 - val_f1_score: 0.8742\n",
      "Epoch 18/50\n",
      "352/352 [==============================] - 127s 360ms/step - loss: 0.2423 - acc: 0.9095 - f1_score: 0.9094 - val_loss: 0.3419 - val_acc: 0.8789 - val_f1_score: 0.8782\n",
      "Epoch 19/50\n",
      "352/352 [==============================] - 126s 359ms/step - loss: 0.2357 - acc: 0.9136 - f1_score: 0.9135 - val_loss: 0.3478 - val_acc: 0.8747 - val_f1_score: 0.8749\n",
      "Epoch 20/50\n",
      "352/352 [==============================] - 127s 361ms/step - loss: 0.2322 - acc: 0.9152 - f1_score: 0.9150 - val_loss: 0.3652 - val_acc: 0.8704 - val_f1_score: 0.8715\n",
      "Epoch 21/50\n",
      "352/352 [==============================] - 127s 361ms/step - loss: 0.2232 - acc: 0.9175 - f1_score: 0.9175 - val_loss: 0.3487 - val_acc: 0.8773 - val_f1_score: 0.8761\n",
      "Epoch 22/50\n",
      "352/352 [==============================] - 126s 359ms/step - loss: 0.2171 - acc: 0.9207 - f1_score: 0.9206 - val_loss: 0.3625 - val_acc: 0.8722 - val_f1_score: 0.8708\n",
      "Epoch 23/50\n",
      "352/352 [==============================] - 126s 359ms/step - loss: 0.2116 - acc: 0.9226 - f1_score: 0.9225 - val_loss: 0.3514 - val_acc: 0.8767 - val_f1_score: 0.8761\n",
      "Epoch 24/50\n",
      "352/352 [==============================] - 126s 360ms/step - loss: 0.2048 - acc: 0.9235 - f1_score: 0.9234 - val_loss: 0.3600 - val_acc: 0.8759 - val_f1_score: 0.8762\n",
      "Epoch 25/50\n",
      "352/352 [==============================] - 127s 360ms/step - loss: 0.2033 - acc: 0.9253 - f1_score: 0.9252 - val_loss: 0.3566 - val_acc: 0.8793 - val_f1_score: 0.8782\n",
      "Epoch 26/50\n",
      "352/352 [==============================] - 129s 366ms/step - loss: 0.1957 - acc: 0.9271 - f1_score: 0.9270 - val_loss: 0.3616 - val_acc: 0.8767 - val_f1_score: 0.8753\n",
      "Epoch 27/50\n",
      "352/352 [==============================] - 127s 360ms/step - loss: 0.1909 - acc: 0.9299 - f1_score: 0.9298 - val_loss: 0.3691 - val_acc: 0.8787 - val_f1_score: 0.8768\n",
      "Epoch 28/50\n",
      "352/352 [==============================] - 193s 549ms/step - loss: 0.1882 - acc: 0.9304 - f1_score: 0.9303 - val_loss: 0.3654 - val_acc: 0.8765 - val_f1_score: 0.8763\n",
      "Epoch 29/50\n",
      "352/352 [==============================] - 124s 351ms/step - loss: 0.1805 - acc: 0.9336 - f1_score: 0.9335 - val_loss: 0.3646 - val_acc: 0.8797 - val_f1_score: 0.8794\n",
      "Epoch 30/50\n",
      "352/352 [==============================] - 135s 383ms/step - loss: 0.1757 - acc: 0.9355 - f1_score: 0.9354 - val_loss: 0.3620 - val_acc: 0.8797 - val_f1_score: 0.8800\n",
      "Epoch 31/50\n",
      "352/352 [==============================] - 134s 380ms/step - loss: 0.1712 - acc: 0.9389 - f1_score: 0.9388 - val_loss: 0.3744 - val_acc: 0.8747 - val_f1_score: 0.8759\n",
      "Epoch 32/50\n",
      "352/352 [==============================] - 144s 409ms/step - loss: 0.1642 - acc: 0.9404 - f1_score: 0.9403 - val_loss: 0.3746 - val_acc: 0.8775 - val_f1_score: 0.8774\n",
      "Epoch 33/50\n",
      "352/352 [==============================] - 113s 323ms/step - loss: 0.1642 - acc: 0.9402 - f1_score: 0.9402 - val_loss: 0.3849 - val_acc: 0.8761 - val_f1_score: 0.8760\n",
      "Epoch 34/50\n",
      "352/352 [==============================] - 114s 325ms/step - loss: 0.1570 - acc: 0.9438 - f1_score: 0.9438 - val_loss: 0.3823 - val_acc: 0.8768 - val_f1_score: 0.8754\n",
      "Epoch 35/50\n",
      "352/352 [==============================] - 115s 326ms/step - loss: 0.1535 - acc: 0.9444 - f1_score: 0.9443 - val_loss: 0.3780 - val_acc: 0.8813 - val_f1_score: 0.8801\n",
      "Epoch 36/50\n",
      "352/352 [==============================] - 114s 325ms/step - loss: 0.1510 - acc: 0.9453 - f1_score: 0.9453 - val_loss: 0.3967 - val_acc: 0.8759 - val_f1_score: 0.8752\n",
      "Epoch 37/50\n",
      "352/352 [==============================] - 115s 326ms/step - loss: 0.1451 - acc: 0.9469 - f1_score: 0.9469 - val_loss: 0.3836 - val_acc: 0.8783 - val_f1_score: 0.8783\n",
      "Epoch 38/50\n",
      "352/352 [==============================] - 114s 325ms/step - loss: 0.1424 - acc: 0.9495 - f1_score: 0.9495 - val_loss: 0.3991 - val_acc: 0.8748 - val_f1_score: 0.8730\n",
      "Epoch 39/50\n",
      "352/352 [==============================] - 114s 325ms/step - loss: 0.1396 - acc: 0.9493 - f1_score: 0.9493 - val_loss: 0.4050 - val_acc: 0.8757 - val_f1_score: 0.8759\n",
      "Epoch 40/50\n",
      "352/352 [==============================] - 115s 328ms/step - loss: 0.1342 - acc: 0.9521 - f1_score: 0.9521 - val_loss: 0.3958 - val_acc: 0.8798 - val_f1_score: 0.8796\n",
      "Epoch 41/50\n",
      "352/352 [==============================] - 121s 343ms/step - loss: 0.1285 - acc: 0.9550 - f1_score: 0.9549 - val_loss: 0.4040 - val_acc: 0.8764 - val_f1_score: 0.8773\n",
      "Epoch 42/50\n",
      "352/352 [==============================] - 112s 319ms/step - loss: 0.1314 - acc: 0.9536 - f1_score: 0.9535 - val_loss: 0.4146 - val_acc: 0.8742 - val_f1_score: 0.8735\n",
      "Epoch 43/50\n",
      "352/352 [==============================] - 110s 313ms/step - loss: 0.1263 - acc: 0.9554 - f1_score: 0.9554 - val_loss: 0.4056 - val_acc: 0.8771 - val_f1_score: 0.8770\n",
      "Epoch 44/50\n",
      "352/352 [==============================] - 111s 315ms/step - loss: 0.1221 - acc: 0.9561 - f1_score: 0.9560 - val_loss: 0.4121 - val_acc: 0.8791 - val_f1_score: 0.8784\n",
      "Epoch 45/50\n",
      "352/352 [==============================] - 122s 347ms/step - loss: 0.1183 - acc: 0.9587 - f1_score: 0.9586 - val_loss: 0.4181 - val_acc: 0.8779 - val_f1_score: 0.8772\n",
      "Epoch 46/50\n",
      "352/352 [==============================] - 117s 332ms/step - loss: 0.1152 - acc: 0.9601 - f1_score: 0.9600 - val_loss: 0.4406 - val_acc: 0.8737 - val_f1_score: 0.8724\n",
      "Epoch 47/50\n",
      "352/352 [==============================] - 113s 321ms/step - loss: 0.1131 - acc: 0.9605 - f1_score: 0.9605 - val_loss: 0.4319 - val_acc: 0.8737 - val_f1_score: 0.8740\n",
      "Epoch 48/50\n",
      "352/352 [==============================] - 117s 331ms/step - loss: 0.1077 - acc: 0.9638 - f1_score: 0.9637 - val_loss: 0.4593 - val_acc: 0.8662 - val_f1_score: 0.8683\n",
      "Epoch 49/50\n",
      "352/352 [==============================] - 112s 318ms/step - loss: 0.1036 - acc: 0.9651 - f1_score: 0.9651 - val_loss: 0.4326 - val_acc: 0.8783 - val_f1_score: 0.8785\n",
      "Epoch 50/50\n",
      "352/352 [==============================] - 115s 326ms/step - loss: 0.1019 - acc: 0.9644 - f1_score: 0.9643 - val_loss: 0.4391 - val_acc: 0.8743 - val_f1_score: 0.8728\n"
     ]
    }
   ],
   "source": [
    "history = model.fit(\n",
    "    train_data,\n",
    "    train_labels,\n",
    "    epochs=50,\n",
    "    batch_size=128,\n",
    "    validation_split=0.25\n",
    ")"
   ]
  },
  {
   "cell_type": "code",
   "execution_count": 26,
   "metadata": {},
   "outputs": [
    {
     "name": "stderr",
     "output_type": "stream",
     "text": [
      "c:\\Users\\user\\AppData\\Local\\Programs\\Python\\Python311\\Lib\\site-packages\\keras\\src\\engine\\training.py:3103: UserWarning: You are saving your model as an HDF5 file via `model.save()`. This file format is considered legacy. We recommend using instead the native Keras format, e.g. `model.save('my_model.keras')`.\n",
      "  saving_api.save_model(\n"
     ]
    }
   ],
   "source": [
    "model.save('fashion_mnist_vgg16_Adam_256_50epochs.h5')"
   ]
  },
  {
   "cell_type": "code",
   "execution_count": 27,
   "metadata": {},
   "outputs": [],
   "source": [
    "model.save('fashion_mnist_vgg16_Adam_256_50epochs.keras')"
   ]
  },
  {
   "cell_type": "code",
   "execution_count": 28,
   "metadata": {},
   "outputs": [
    {
     "data": {
      "text/plain": [
       "dict_keys(['loss', 'acc', 'f1_score', 'val_loss', 'val_acc', 'val_f1_score'])"
      ]
     },
     "execution_count": 28,
     "metadata": {},
     "output_type": "execute_result"
    }
   ],
   "source": [
    "history.history.keys()"
   ]
  },
  {
   "cell_type": "code",
   "execution_count": 29,
   "metadata": {},
   "outputs": [],
   "source": [
    "def history_acc_loss():\n",
    "    acc = history.history[\"acc\"]\n",
    "\n",
    "\n",
    "    val_acc = history.history[\"val_acc\"]\n",
    "    loss = history.history[\"loss\"]\n",
    "    val_loss = history.history[\"val_loss\"]\n",
    "\n",
    "    epochs = range(1, len(acc) + 1)\n",
    "\n",
    "    plt.plot(\n",
    "        epochs, acc, \"bo\", label=\"Точність на тренуванні\"\n",
    "    )  # Графік точності на тренувальних данних\n",
    "    plt.plot(\n",
    "        epochs, val_acc, \"b\", label=\"Точність на валідації\"\n",
    "    )  # Графік точності на валідаційних данних\n",
    "    plt.title(\"Точність тренування і валідації\")  # Заголовок графіку\n",
    "    plt.legend()  # Показати легенду\n",
    "\n",
    "    plt.figure()\n",
    "\n",
    "    plt.plot(\n",
    "        epochs, loss, \"bo\", label=\"Втрати на тренуванні\"\n",
    "    )  # Графік втрат на тренувальних данних\n",
    "    plt.plot(\n",
    "        epochs, val_loss, \"b\", label=\"Втрати на валідації\"\n",
    "    )  # Графік втрат на валідаційних данних\n",
    "    plt.title(\"Втрати тренування і валідації\")  # Заголовок графіку\n",
    "    plt.legend()  # Показати легенду\n",
    "\n",
    "    plt.show()  # Відобразити графіки"
   ]
  },
  {
   "cell_type": "code",
   "execution_count": 33,
   "metadata": {},
   "outputs": [
    {
     "data": {
      "image/png": "[encoded data removed]",
      "text/plain": [
       "<Figure size 640x480 with 1 Axes>"
      ]
     },
     "metadata": {},
     "output_type": "display_data"
    },
    {
     "data": {
      "image/png": "[encoded data removed]",
      "text/plain": [
       "<Figure size 640x480 with 1 Axes>"
      ]
     },
     "metadata": {},
     "output_type": "display_data"
    }
   ],
   "source": [
    "history_acc_loss()"
   ]
  },
  {
   "cell_type": "code",
   "execution_count": 75,
   "metadata": {},
   "outputs": [
    {
     "name": "stdout",
     "output_type": "stream",
     "text": [
      "Model: \"vgg16\"\n",
      "_________________________________________________________________\n",
      " Layer (type)                Output Shape              Param #   \n",
      "=================================================================\n",
      " input_1 (InputLayer)        [(None, 32, 32, 3)]       0         \n",
      "                                                                 \n",
      " block1_conv1 (Conv2D)       (None, 32, 32, 64)        1792      \n",
      "                                                                 \n",
      " block1_conv2 (Conv2D)       (None, 32, 32, 64)        36928     \n",
      "                                                                 \n",
      " block1_pool (MaxPooling2D)  (None, 16, 16, 64)        0         \n",
      "                                                                 \n",
      " block2_conv1 (Conv2D)       (None, 16, 16, 128)       73856     \n",
      "                                                                 \n",
      " block2_conv2 (Conv2D)       (None, 16, 16, 128)       147584    \n",
      "                                                                 \n",
      " block2_pool (MaxPooling2D)  (None, 8, 8, 128)         0         \n",
      "                                                                 \n",
      " block3_conv1 (Conv2D)       (None, 8, 8, 256)         295168    \n",
      "                                                                 \n",
      " block3_conv2 (Conv2D)       (None, 8, 8, 256)         590080    \n",
      "                                                                 \n",
      " block3_conv3 (Conv2D)       (None, 8, 8, 256)         590080    \n",
      "                                                                 \n",
      " block3_pool (MaxPooling2D)  (None, 4, 4, 256)         0         \n",
      "                                                                 \n",
      " block4_conv1 (Conv2D)       (None, 4, 4, 512)         1180160   \n",
      "                                                                 \n",
      " block4_conv2 (Conv2D)       (None, 4, 4, 512)         2359808   \n",
      "                                                                 \n",
      " block4_conv3 (Conv2D)       (None, 4, 4, 512)         2359808   \n",
      "                                                                 \n",
      " block4_pool (MaxPooling2D)  (None, 2, 2, 512)         0         \n",
      "                                                                 \n",
      " block5_conv1 (Conv2D)       (None, 2, 2, 512)         2359808   \n",
      "                                                                 \n",
      " block5_conv2 (Conv2D)       (None, 2, 2, 512)         2359808   \n",
      "                                                                 \n",
      " block5_conv3 (Conv2D)       (None, 2, 2, 512)         2359808   \n",
      "                                                                 \n",
      " block5_pool (MaxPooling2D)  (None, 1, 1, 512)         0         \n",
      "                                                                 \n",
      "=================================================================\n",
      "Total params: 14714688 (56.13 MB)\n",
      "Trainable params: 0 (0.00 Byte)\n",
      "Non-trainable params: 14714688 (56.13 MB)\n",
      "_________________________________________________________________\n"
     ]
    }
   ],
   "source": [
    "conv_base.summary()"
   ]
  },
  {
   "cell_type": "code",
   "execution_count": 76,
   "metadata": {},
   "outputs": [],
   "source": [
    "conv_base.trainable = True\n",
    "set_trainable = False\n",
    "for layer in conv_base.layers:\n",
    "    if layer.name == \"block3_conv1\":\n",
    "        set_trainable = True\n",
    "    if set_trainable:\n",
    "        layer.trainable = True\n",
    "    else:\n",
    "        layer.trainable = False\n",
    "\n",
    "completed_model = models.Sequential(\n",
    "    [\n",
    "        conv_base,\n",
    "        layers.Flatten(),\n",
    "        layers.Dense(256, activation=\"relu\"),\n",
    "        layers.Dense(10, activation=\"softmax\"),\n",
    "    ]\n",
    ")"
   ]
  },
  {
   "cell_type": "code",
   "execution_count": 77,
   "metadata": {},
   "outputs": [],
   "source": [
    "completed_model.compile(\n",
    "    loss=\"categorical_crossentropy\",\n",
    "    optimizer=tf.keras.optimizers.Adam(learning_rate=0.001),\n",
    "    metrics=[\"acc\", metrics.F1Score()],\n",
    ")"
   ]
  },
  {
   "cell_type": "code",
   "execution_count": 38,
   "metadata": {},
   "outputs": [
    {
     "name": "stdout",
     "output_type": "stream",
     "text": [
      "Epoch 1/30\n",
      "1407/1407 [==============================] - 320s 227ms/step - loss: 0.7126 - acc: 0.7309 - f1_score: 0.7285 - val_loss: 0.4931 - val_acc: 0.8321 - val_f1_score: 0.8259\n",
      "Epoch 2/30\n",
      "1407/1407 [==============================] - 317s 225ms/step - loss: 0.4070 - acc: 0.8620 - f1_score: 0.8612 - val_loss: 0.4931 - val_acc: 0.8218 - val_f1_score: 0.8232\n",
      "Epoch 3/30\n",
      "1407/1407 [==============================] - 320s 228ms/step - loss: 0.3599 - acc: 0.8796 - f1_score: 0.8791 - val_loss: 0.3697 - val_acc: 0.8766 - val_f1_score: 0.8781\n",
      "Epoch 4/30\n",
      "1407/1407 [==============================] - 316s 225ms/step - loss: 0.3175 - acc: 0.8913 - f1_score: 0.8909 - val_loss: 0.3545 - val_acc: 0.8905 - val_f1_score: 0.8878\n",
      "Epoch 5/30\n",
      "1407/1407 [==============================] - 316s 224ms/step - loss: 0.2985 - acc: 0.9001 - f1_score: 0.8999 - val_loss: 0.3011 - val_acc: 0.8953 - val_f1_score: 0.8938\n",
      "Epoch 6/30\n",
      "1407/1407 [==============================] - 313s 222ms/step - loss: 0.2862 - acc: 0.9040 - f1_score: 0.9037 - val_loss: 0.2760 - val_acc: 0.9077 - val_f1_score: 0.9076\n",
      "Epoch 7/30\n",
      "1407/1407 [==============================] - 318s 226ms/step - loss: 0.2617 - acc: 0.9101 - f1_score: 0.9099 - val_loss: 0.3019 - val_acc: 0.8985 - val_f1_score: 0.8963\n",
      "Epoch 8/30\n",
      "1407/1407 [==============================] - 316s 224ms/step - loss: 0.2601 - acc: 0.9127 - f1_score: 0.9125 - val_loss: 0.2763 - val_acc: 0.9055 - val_f1_score: 0.9033\n",
      "Epoch 9/30\n",
      "1407/1407 [==============================] - 323s 230ms/step - loss: 0.2517 - acc: 0.9156 - f1_score: 0.9153 - val_loss: 0.2452 - val_acc: 0.9164 - val_f1_score: 0.9155\n",
      "Epoch 10/30\n",
      "1407/1407 [==============================] - 325s 231ms/step - loss: 0.2603 - acc: 0.9126 - f1_score: 0.9124 - val_loss: 0.2671 - val_acc: 0.9110 - val_f1_score: 0.9103\n",
      "Epoch 11/30\n",
      "1407/1407 [==============================] - 322s 229ms/step - loss: 0.2299 - acc: 0.9230 - f1_score: 0.9228 - val_loss: 0.3040 - val_acc: 0.8974 - val_f1_score: 0.8972\n",
      "Epoch 12/30\n",
      "1407/1407 [==============================] - 316s 224ms/step - loss: 0.2259 - acc: 0.9231 - f1_score: 0.9229 - val_loss: 0.3021 - val_acc: 0.9105 - val_f1_score: 0.9104\n",
      "Epoch 13/30\n",
      "1407/1407 [==============================] - 316s 225ms/step - loss: 0.2443 - acc: 0.9170 - f1_score: 0.9168 - val_loss: 0.2612 - val_acc: 0.9133 - val_f1_score: 0.9128\n",
      "Epoch 14/30\n",
      "1407/1407 [==============================] - 316s 225ms/step - loss: 0.2078 - acc: 0.9284 - f1_score: 0.9282 - val_loss: 0.2711 - val_acc: 0.9109 - val_f1_score: 0.9107\n",
      "Epoch 15/30\n",
      "1407/1407 [==============================] - 315s 224ms/step - loss: 0.1942 - acc: 0.9324 - f1_score: 0.9323 - val_loss: 0.2638 - val_acc: 0.9177 - val_f1_score: 0.9177\n",
      "Epoch 16/30\n",
      "1407/1407 [==============================] - 315s 224ms/step - loss: 0.1989 - acc: 0.9325 - f1_score: 0.9323 - val_loss: 0.2563 - val_acc: 0.9171 - val_f1_score: 0.9167\n",
      "Epoch 17/30\n",
      "1407/1407 [==============================] - 315s 224ms/step - loss: 0.2589 - acc: 0.9148 - f1_score: 0.9146 - val_loss: 0.3257 - val_acc: 0.9076 - val_f1_score: 0.9054\n",
      "Epoch 18/30\n",
      "1407/1407 [==============================] - 316s 224ms/step - loss: 0.1881 - acc: 0.9378 - f1_score: 0.9377 - val_loss: 0.2878 - val_acc: 0.9056 - val_f1_score: 0.9041\n",
      "Epoch 19/30\n",
      "1407/1407 [==============================] - 321s 228ms/step - loss: 0.1753 - acc: 0.9393 - f1_score: 0.9391 - val_loss: 0.2875 - val_acc: 0.9149 - val_f1_score: 0.9139\n",
      "Epoch 20/30\n",
      "1407/1407 [==============================] - 324s 230ms/step - loss: 0.3893 - acc: 0.8992 - f1_score: 0.8987 - val_loss: 0.3251 - val_acc: 0.8924 - val_f1_score: 0.8917\n",
      "Epoch 21/30\n",
      "1407/1407 [==============================] - 321s 228ms/step - loss: 0.2375 - acc: 0.9226 - f1_score: 0.9225 - val_loss: 0.3415 - val_acc: 0.8909 - val_f1_score: 0.8915\n",
      "Epoch 22/30\n",
      "1407/1407 [==============================] - 325s 231ms/step - loss: 0.2048 - acc: 0.9309 - f1_score: 0.9308 - val_loss: 0.2740 - val_acc: 0.9187 - val_f1_score: 0.9184\n",
      "Epoch 23/30\n",
      "1407/1407 [==============================] - 324s 231ms/step - loss: 0.2006 - acc: 0.9309 - f1_score: 0.9307 - val_loss: 0.2817 - val_acc: 0.9203 - val_f1_score: 0.9201\n",
      "Epoch 24/30\n",
      "1407/1407 [==============================] - 325s 231ms/step - loss: 0.2084 - acc: 0.9372 - f1_score: 0.9371 - val_loss: 0.5561 - val_acc: 0.8539 - val_f1_score: 0.8507\n",
      "Epoch 25/30\n",
      "1407/1407 [==============================] - 324s 230ms/step - loss: 0.2697 - acc: 0.9120 - f1_score: 0.9118 - val_loss: 0.2749 - val_acc: 0.9109 - val_f1_score: 0.9102\n",
      "Epoch 26/30\n",
      "1407/1407 [==============================] - 319s 226ms/step - loss: 0.2172 - acc: 0.9267 - f1_score: 0.9266 - val_loss: 0.2990 - val_acc: 0.9094 - val_f1_score: 0.9077\n",
      "Epoch 27/30\n",
      "1407/1407 [==============================] - 316s 225ms/step - loss: 0.1731 - acc: 0.9413 - f1_score: 0.9413 - val_loss: 0.2739 - val_acc: 0.9191 - val_f1_score: 0.9189\n",
      "Epoch 28/30\n",
      "1407/1407 [==============================] - 331s 235ms/step - loss: 0.1735 - acc: 0.9421 - f1_score: 0.9421 - val_loss: 0.2938 - val_acc: 0.9174 - val_f1_score: 0.9163\n",
      "Epoch 29/30\n",
      "1407/1407 [==============================] - 317s 226ms/step - loss: 0.1679 - acc: 0.9434 - f1_score: 0.9434 - val_loss: 0.2811 - val_acc: 0.9202 - val_f1_score: 0.9194\n",
      "Epoch 30/30\n",
      "1407/1407 [==============================] - 324s 230ms/step - loss: 0.1489 - acc: 0.9493 - f1_score: 0.9493 - val_loss: 0.2804 - val_acc: 0.9205 - val_f1_score: 0.9199\n"
     ]
    }
   ],
   "source": [
    "history = completed_model.fit(\n",
    "    train_data,\n",
    "    train_labels,\n",
    "    epochs=30,\n",
    "    validation_split=0.25,\n",
    ")"
   ]
  },
  {
   "cell_type": "code",
   "execution_count": 42,
   "metadata": {},
   "outputs": [
    {
     "name": "stdout",
     "output_type": "stream",
     "text": [
      "313/313 [==============================] - 20s 64ms/step - loss: 0.3228 - acc: 0.9178 - f1_score: 0.9175\n"
     ]
    }
   ],
   "source": [
    "model_score = completed_model.evaluate(test_data, test_labels)"
   ]
  },
  {
   "cell_type": "code",
   "execution_count": 48,
   "metadata": {},
   "outputs": [
    {
     "name": "stdout",
     "output_type": "stream",
     "text": [
      "Метріки, розраховані на тестових даних: \n",
      "Функція втрат: 0.32 \n",
      "Accuracy: 91.78%\n",
      "\n",
      "F-мiра (мiра точності) по класам:\n",
      "class 1: 0.88\n",
      "class 2: 0.98\n",
      "class 3: 0.88\n",
      "class 4: 0.90\n",
      "class 5: 0.86\n",
      "class 6: 0.99\n",
      "class 7: 0.77\n",
      "class 8: 0.97\n",
      "class 9: 0.98\n",
      "class 10: 0.97\n"
     ]
    }
   ],
   "source": [
    "loss, acc, f1_score = model_score\n",
    "print(\n",
    "    f\"Метріки, розраховані на тестових даних: \\nФункція втрат: {loss:.2f} \\nAccuracy: {acc*100:.2f}%\"\n",
    ")\n",
    "print(\"\\nF-мiра (мiра точності) по класам:\")\n",
    "for i in range(0, 10):\n",
    "    print(f\"class {i+1}: {f1_score[i]:.2f}\")"
   ]
  },
  {
   "cell_type": "markdown",
   "metadata": {},
   "source": [
    "В цьому завданні була створена згорткова нейронна мережа VGG16 на основі датасету fashion_mnist. Обидві мережі були зроблені для задачі класифікації. В порівнянні з багаташаровою мережою з попереднього завдання VGG16 показала майже такий же високий результат точності, як багатошарова. Але VGG16 має недоліки. Такі як, повільна швидкість навчання і значна вага самої мережі. Це відбувається через глибину і кількість повнозв'язаних вузлів. Ця нейромережа потребує значного обсягу пам'яті для зберігання параметрів моделі. Головна особливість VGG16 - використання невеликих фільтрів розміру 3х3 пікселя і використання глибоких згорткових шарів.\n"
   ]
  }
 ],
 "metadata": {
  "accelerator": "GPU",
  "colab": {
   "name": "fashion_mnist_prevent_overfitting.ipynb",
   "provenance": [],
   "version": "0.3.2"
  },
  "kernelspec": {
   "display_name": "Python 3 (ipykernel)",
   "language": "python",
   "name": "python3"
  },
  "language_info": {
   "codemirror_mode": {
    "name": "ipython",
    "version": 3
   },
   "file_extension": ".py",
   "mimetype": "text/x-python",
   "name": "python",
   "nbconvert_exporter": "python",
   "pygments_lexer": "ipython3",
   "version": "3.11.3"
  }
 },
 "nbformat": 4,
 "nbformat_minor": 4
}
